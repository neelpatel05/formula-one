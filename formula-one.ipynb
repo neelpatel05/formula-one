{
 "cells": [
  {
   "cell_type": "code",
   "execution_count": 1,
   "metadata": {},
   "outputs": [],
   "source": [
    "import numpy as np\n",
    "import matplotlib.pyplot as plt\n",
    "import pandas as pd\n",
    "import os\n",
    "import operator"
   ]
  },
  {
   "cell_type": "code",
   "execution_count": 2,
   "metadata": {},
   "outputs": [
    {
     "data": {
      "text/plain": [
       "['circuits.csv',\n",
       " 'status.csv',\n",
       " 'drivers.csv',\n",
       " 'driverStandings.csv',\n",
       " 'races.csv',\n",
       " 'constructors.csv',\n",
       " 'constructorResults.csv',\n",
       " 'lapTimes.csv',\n",
       " 'qualifying.csv',\n",
       " 'pitStops.csv',\n",
       " 'seasons.csv',\n",
       " 'constructorStandings.csv',\n",
       " 'results.csv']"
      ]
     },
     "execution_count": 2,
     "metadata": {},
     "output_type": "execute_result"
    }
   ],
   "source": [
    "os.listdir(\"input\")"
   ]
  },
  {
   "cell_type": "code",
   "execution_count": 3,
   "metadata": {},
   "outputs": [
    {
     "data": {
      "text/html": [
       "<div>\n",
       "<style scoped>\n",
       "    .dataframe tbody tr th:only-of-type {\n",
       "        vertical-align: middle;\n",
       "    }\n",
       "\n",
       "    .dataframe tbody tr th {\n",
       "        vertical-align: top;\n",
       "    }\n",
       "\n",
       "    .dataframe thead th {\n",
       "        text-align: right;\n",
       "    }\n",
       "</style>\n",
       "<table border=\"1\" class=\"dataframe\">\n",
       "  <thead>\n",
       "    <tr style=\"text-align: right;\">\n",
       "      <th></th>\n",
       "      <th>constructorId</th>\n",
       "      <th>constructorRef</th>\n",
       "      <th>name</th>\n",
       "      <th>nationality</th>\n",
       "      <th>url</th>\n",
       "      <th>Unnamed: 5</th>\n",
       "    </tr>\n",
       "  </thead>\n",
       "  <tbody>\n",
       "    <tr>\n",
       "      <th>0</th>\n",
       "      <td>1</td>\n",
       "      <td>mclaren</td>\n",
       "      <td>McLaren</td>\n",
       "      <td>British</td>\n",
       "      <td>http://en.wikipedia.org/wiki/McLaren</td>\n",
       "      <td>NaN</td>\n",
       "    </tr>\n",
       "    <tr>\n",
       "      <th>1</th>\n",
       "      <td>2</td>\n",
       "      <td>bmw_sauber</td>\n",
       "      <td>BMW Sauber</td>\n",
       "      <td>German</td>\n",
       "      <td>http://en.wikipedia.org/wiki/BMW_Sauber</td>\n",
       "      <td>NaN</td>\n",
       "    </tr>\n",
       "    <tr>\n",
       "      <th>2</th>\n",
       "      <td>3</td>\n",
       "      <td>williams</td>\n",
       "      <td>Williams</td>\n",
       "      <td>British</td>\n",
       "      <td>http://en.wikipedia.org/wiki/Williams_Grand_Pr...</td>\n",
       "      <td>NaN</td>\n",
       "    </tr>\n",
       "    <tr>\n",
       "      <th>3</th>\n",
       "      <td>4</td>\n",
       "      <td>renault</td>\n",
       "      <td>Renault</td>\n",
       "      <td>French</td>\n",
       "      <td>http://en.wikipedia.org/wiki/Renault_F1</td>\n",
       "      <td>NaN</td>\n",
       "    </tr>\n",
       "    <tr>\n",
       "      <th>4</th>\n",
       "      <td>5</td>\n",
       "      <td>toro_rosso</td>\n",
       "      <td>Toro Rosso</td>\n",
       "      <td>Italian</td>\n",
       "      <td>http://en.wikipedia.org/wiki/Scuderia_Toro_Rosso</td>\n",
       "      <td>NaN</td>\n",
       "    </tr>\n",
       "    <tr>\n",
       "      <th>5</th>\n",
       "      <td>6</td>\n",
       "      <td>ferrari</td>\n",
       "      <td>Ferrari</td>\n",
       "      <td>Italian</td>\n",
       "      <td>http://en.wikipedia.org/wiki/Scuderia_Ferrari</td>\n",
       "      <td>NaN</td>\n",
       "    </tr>\n",
       "    <tr>\n",
       "      <th>6</th>\n",
       "      <td>7</td>\n",
       "      <td>toyota</td>\n",
       "      <td>Toyota</td>\n",
       "      <td>Japanese</td>\n",
       "      <td>http://en.wikipedia.org/wiki/Toyota_Racing</td>\n",
       "      <td>NaN</td>\n",
       "    </tr>\n",
       "    <tr>\n",
       "      <th>7</th>\n",
       "      <td>8</td>\n",
       "      <td>super_aguri</td>\n",
       "      <td>Super Aguri</td>\n",
       "      <td>Japanese</td>\n",
       "      <td>http://en.wikipedia.org/wiki/Super_Aguri_F1</td>\n",
       "      <td>NaN</td>\n",
       "    </tr>\n",
       "    <tr>\n",
       "      <th>8</th>\n",
       "      <td>9</td>\n",
       "      <td>red_bull</td>\n",
       "      <td>Red Bull</td>\n",
       "      <td>Austrian</td>\n",
       "      <td>http://en.wikipedia.org/wiki/Red_Bull_Racing</td>\n",
       "      <td>NaN</td>\n",
       "    </tr>\n",
       "    <tr>\n",
       "      <th>9</th>\n",
       "      <td>10</td>\n",
       "      <td>force_india</td>\n",
       "      <td>Force India</td>\n",
       "      <td>Indian</td>\n",
       "      <td>http://en.wikipedia.org/wiki/Force_India</td>\n",
       "      <td>NaN</td>\n",
       "    </tr>\n",
       "  </tbody>\n",
       "</table>\n",
       "</div>"
      ],
      "text/plain": [
       "   constructorId constructorRef         name nationality  \\\n",
       "0              1        mclaren      McLaren     British   \n",
       "1              2     bmw_sauber   BMW Sauber      German   \n",
       "2              3       williams     Williams     British   \n",
       "3              4        renault      Renault      French   \n",
       "4              5     toro_rosso   Toro Rosso     Italian   \n",
       "5              6        ferrari      Ferrari     Italian   \n",
       "6              7         toyota       Toyota    Japanese   \n",
       "7              8    super_aguri  Super Aguri    Japanese   \n",
       "8              9       red_bull     Red Bull    Austrian   \n",
       "9             10    force_india  Force India      Indian   \n",
       "\n",
       "                                                 url  Unnamed: 5  \n",
       "0               http://en.wikipedia.org/wiki/McLaren         NaN  \n",
       "1            http://en.wikipedia.org/wiki/BMW_Sauber         NaN  \n",
       "2  http://en.wikipedia.org/wiki/Williams_Grand_Pr...         NaN  \n",
       "3            http://en.wikipedia.org/wiki/Renault_F1         NaN  \n",
       "4   http://en.wikipedia.org/wiki/Scuderia_Toro_Rosso         NaN  \n",
       "5      http://en.wikipedia.org/wiki/Scuderia_Ferrari         NaN  \n",
       "6         http://en.wikipedia.org/wiki/Toyota_Racing         NaN  \n",
       "7        http://en.wikipedia.org/wiki/Super_Aguri_F1         NaN  \n",
       "8       http://en.wikipedia.org/wiki/Red_Bull_Racing         NaN  \n",
       "9           http://en.wikipedia.org/wiki/Force_India         NaN  "
      ]
     },
     "execution_count": 3,
     "metadata": {},
     "output_type": "execute_result"
    }
   ],
   "source": [
    "constructors = pd.read_csv(\"input/constructors.csv\",encoding=\"latin1\")\n",
    "constructors[:10]"
   ]
  },
  {
   "cell_type": "code",
   "execution_count": null,
   "metadata": {},
   "outputs": [
    {
     "data": {
      "text/plain": [
       "{'British': 85,\n",
       " 'German': 10,\n",
       " 'French': 12,\n",
       " 'Italian': 29,\n",
       " 'Japanese': 5,\n",
       " 'Austrian': 1,\n",
       " 'Indian': 1,\n",
       " 'Dutch': 3,\n",
       " 'Russian': 2,\n",
       " 'Swiss': 4,\n",
       " 'Irish': 1,\n",
       " 'Hong Kong': 1,\n",
       " 'Brazilian': 1,\n",
       " 'Canadian': 2,\n",
       " 'Mexican': 1,\n",
       " 'American': 39,\n",
       " 'Australian': 1,\n",
       " 'New Zealand': 1,\n",
       " 'South African': 3,\n",
       " 'Rhodesian': 1,\n",
       " 'Belgium': 1,\n",
       " 'East German': 1,\n",
       " 'Spanish': 1,\n",
       " 'Malaysian': 2}"
      ]
     },
     "execution_count": 4,
     "metadata": {},
     "output_type": "execute_result"
    }
   ],
   "source": [
    "constructors_data = dict()\n",
    "for index, row in constructors.iterrows():\n",
    "    if row[\"nationality\"] in constructors_data.keys():\n",
    "        constructors_data[row[\"nationality\"]]+=1\n",
    "    else:\n",
    "        constructors_data[row[\"nationality\"]]=1\n",
    "constructors_data"
   ]
  },
  {
   "cell_type": "markdown",
   "metadata": {},
   "source": [
    "# Country by Constructors"
   ]
  },
  {
   "cell_type": "code",
   "execution_count": null,
   "metadata": {},
   "outputs": [
    {
     "name": "stderr",
     "output_type": "stream",
     "text": [
      "/Users/neelpatel/anaconda3/lib/python3.6/site-packages/IPython/core/display.py:689: UserWarning:\n",
      "\n",
      "Consider using IPython.display.IFrame instead\n",
      "\n"
     ]
    },
    {
     "data": {
      "text/html": [
       "<iframe id=\"igraph\" scrolling=\"no\" style=\"border:none;\" seamless=\"seamless\" src=\"https://plot.ly/~neelpatel05/2.embed\" height=\"525px\" width=\"100%\"></iframe>"
      ],
      "text/plain": [
       "<chart_studio.tools.PlotlyDisplay object>"
      ]
     },
     "execution_count": 5,
     "metadata": {},
     "output_type": "execute_result"
    }
   ],
   "source": [
    "import plotly.plotly as py\n",
    "import plotly.graph_objs as go\n",
    "\n",
    "data=[go.Bar(\n",
    "    x=list(constructors_data.keys()),\n",
    "    y=list(constructors_data.values())\n",
    ")]\n",
    "\n",
    "py.iplot(data,filename='Country wise Constructors')"
   ]
  },
  {
   "cell_type": "code",
   "execution_count": null,
   "metadata": {},
   "outputs": [],
   "source": [
    "trace = go.Pie(labels=list(constructors_data.keys()), values=list(constructors_data.values()), textinfo='none')\n",
    "py.iplot([trace], filename='Country wise Constructors Percentage')"
   ]
  },
  {
   "cell_type": "code",
   "execution_count": null,
   "metadata": {},
   "outputs": [],
   "source": [
    "drivers = pd.read_csv(\"input/drivers.csv\",encoding=\"latin1\")\n",
    "drivers[:10]"
   ]
  },
  {
   "cell_type": "code",
   "execution_count": null,
   "metadata": {},
   "outputs": [],
   "source": [
    "drivers_nationality_data = dict()\n",
    "for index, row in drivers.iterrows():\n",
    "    if row[\"nationality\"] in drivers_nationality_data.keys():\n",
    "        drivers_nationality_data[row[\"nationality\"]]+=1\n",
    "    else:\n",
    "        drivers_nationality_data[row[\"nationality\"]]=1\n",
    "drivers_nationality_data"
   ]
  },
  {
   "cell_type": "markdown",
   "metadata": {},
   "source": [
    "# Country wise Drivers"
   ]
  },
  {
   "cell_type": "code",
   "execution_count": null,
   "metadata": {},
   "outputs": [],
   "source": [
    "data=[go.Bar(\n",
    "    x=list(drivers_nationality_data.keys()),\n",
    "    y=list(drivers_nationality_data.values())\n",
    ")]\n",
    "\n",
    "py.iplot(data,filename='Country wise Drivers')"
   ]
  },
  {
   "cell_type": "code",
   "execution_count": null,
   "metadata": {},
   "outputs": [],
   "source": [
    "results = pd.read_csv(\"input/results.csv\",encoding=\"latin1\")\n",
    "circuits = pd.read_csv(\"input/circuits.csv\",encoding=\"latin1\")\n",
    "status = pd.read_csv(\"input/status.csv\",encoding=\"latin1\")\n",
    "drivers = pd.read_csv(\"input/drivers.csv\",encoding=\"latin1\")\n",
    "driverStandings = pd.read_csv(\"input/driverStandings.csv\",encoding=\"latin1\")\n",
    "races = pd.read_csv(\"input/races.csv\",encoding=\"latin1\")\n",
    "constructors = pd.read_csv(\"input/constructors.csv\",encoding=\"latin1\")\n",
    "constructorResults = pd.read_csv(\"input/constructorResults.csv\",encoding=\"latin1\")\n",
    "lapTimes = pd.read_csv(\"input/lapTimes.csv\",encoding=\"latin1\")\n",
    "qualifying = pd.read_csv(\"input/qualifying.csv\",encoding=\"latin1\")\n",
    "pitStops = pd.read_csv(\"input/pitStops.csv\",encoding=\"latin1\")\n",
    "seasons = pd.read_csv(\"input/seasons.csv\",encoding=\"latin1\")\n",
    "constructorStandings = pd.read_csv(\"input/constructorStandings.csv\",encoding=\"latin1\") \n",
    "results = pd.read_csv(\"input/results.csv\",encoding=\"latin1\")"
   ]
  },
  {
   "cell_type": "code",
   "execution_count": null,
   "metadata": {},
   "outputs": [],
   "source": [
    "driver_wins = dict()\n",
    "for index, row in driverStandings.iterrows():\n",
    "    if row[\"position\"] == 1:\n",
    "        if row[\"driverId\"] in driver_wins.keys():\n",
    "            driver_wins[row[\"driverId\"]] += 1\n",
    "        else:\n",
    "            driver_wins[row[\"driverId\"]] = 1\n",
    "driver_wins"
   ]
  },
  {
   "cell_type": "code",
   "execution_count": null,
   "metadata": {},
   "outputs": [],
   "source": [
    "driverStandings = driverStandings.fillna(0)\n",
    "data = driverStandings.merge(drivers, how='left', on= 'driverId')\n",
    "data.head()"
   ]
  },
  {
   "cell_type": "code",
   "execution_count": null,
   "metadata": {},
   "outputs": [],
   "source": [
    "data = data[data[\"position\"]==1]\n",
    "data[\"driverRef\"].value_counts()"
   ]
  },
  {
   "cell_type": "markdown",
   "metadata": {},
   "source": [
    "# Wins by Drivers"
   ]
  },
  {
   "cell_type": "code",
   "execution_count": null,
   "metadata": {},
   "outputs": [],
   "source": [
    "data1=[go.Bar(\n",
    "    x=data[\"driverRef\"].value_counts().index,\n",
    "    y=data[\"driverRef\"].value_counts().values\n",
    ")]\n",
    "\n",
    "py.iplot(data1,filename='Wins by Drivers')"
   ]
  }
 ],
 "metadata": {
  "kernelspec": {
   "display_name": "Python 3",
   "language": "python",
   "name": "python3"
  },
  "language_info": {
   "codemirror_mode": {
    "name": "ipython",
    "version": 3
   },
   "file_extension": ".py",
   "mimetype": "text/x-python",
   "name": "python",
   "nbconvert_exporter": "python",
   "pygments_lexer": "ipython3",
   "version": "3.6.8"
  }
 },
 "nbformat": 4,
 "nbformat_minor": 2
}
